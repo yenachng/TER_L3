{
 "cells": [
  {
   "cell_type": "markdown",
   "metadata": {},
   "source": [
    "notes:\n",
    "- improve embedding : fast eigen decomp using power method or qr projection\n",
    "    then choose $k$, then do eigsh decomp\n",
    "- more efficient clustering, read more on fiedler/perron characteristics\n",
    "- improve $eq_h$ decomposition for tailored to maximum kelmans res"
   ]
  },
  {
   "cell_type": "code",
   "execution_count": 7,
   "metadata": {},
   "outputs": [],
   "source": [
    "import networkx as nx\n",
    "import numpy as np\n",
    "import scipy.sparse as sps\n",
    "from scipy.sparse.linalg import eigsh\n",
    "from sklearn.cluster import KMeans\n",
    "import example_graphs as exgr\n",
    "import spectral_embedding as spe"
   ]
  },
  {
   "cell_type": "code",
   "execution_count": 8,
   "metadata": {},
   "outputs": [],
   "source": [
    "def power_method(A, tol=1e-6, max_iter=1000, x0=None):\n",
    "    n = A.shape[0]\n",
    "    if x0 is None or np.allclose(x0, 0):\n",
    "        x = np.ones(n)\n",
    "    else:\n",
    "        x = x0\n",
    "    x = x / np.linalg.norm(x)\n",
    "    lam_old = 0\n",
    "    for i in range(max_iter):\n",
    "        x = A.dot(x)\n",
    "        norm = np.linalg.norm(x)\n",
    "        if norm == 0:\n",
    "            return 0, x, i\n",
    "        x = x / norm\n",
    "        lam = np.dot(x, A.dot(x))\n",
    "        if abs(lam - lam_old) < tol:\n",
    "            return lam, x, i+1\n",
    "        lam_old = lam\n",
    "    return lam, x, max_iter"
   ]
  },
  {
   "cell_type": "code",
   "execution_count": 2,
   "metadata": {},
   "outputs": [],
   "source": [
    "def spectral_radius_power(G, max_iter=1000, tol=1e-6):\n",
    "    A = nx.adjacency_matrix(G)\n",
    "    n = A.shape[0]\n",
    "    x = np.random.rand(n)\n",
    "    x /= np.linalg.norm(x)\n",
    "    for _ in range(max_iter):\n",
    "        x_new = A @ x\n",
    "        x_new_norm = np.linalg.norm(x_new)\n",
    "        x_new /= x_new_norm\n",
    "\n",
    "        if np.linalg.norm(x - x_new) < tol:\n",
    "            break\n",
    "        x = x_new\n",
    "    return x_new_norm"
   ]
  },
  {
   "cell_type": "code",
   "execution_count": null,
   "metadata": {},
   "outputs": [
    {
     "name": "stdout",
     "output_type": "stream",
     "text": [
      "7.205616713572342\n",
      "[-4.66726249  7.20561722]\n"
     ]
    }
   ],
   "source": [
    "n = 25\n",
    "G = exgr.test_graph(n)\n",
    "\n",
    "A = spe.computeA(G)\n",
    "lam,x,_ =power_method(A)\n"
   ]
  },
  {
   "cell_type": "code",
   "execution_count": 21,
   "metadata": {},
   "outputs": [],
   "source": [
    "def QR_orthogonalization(A, k, p=10, q=2,):\n",
    "    n = A.shape[0]\n",
    "    O = np.random(n,k+p)\n",
    "    Y = A.dot(O) if hasattr(A, \"dot\") else np.dot(A, O)\n",
    "    for _ in range(q):\n",
    "        Y = A.dot(Y) if hasattr(A, \"dot\") else np.dot(A,O)\n",
    "\n",
    "    Q, _ = np.linalg.qr(Y, mode='reduced')\n",
    "    B = Q.T.dot(A.dot(Q)) if hasattr(A,\"dot\") else np.dot(Q.T, np.dot(A,Q))\n",
    "    evals, evecs_B = np.linalg.eigh(B)\n",
    "    idx = np.argsort(evals)\n",
    "    evals = evals[idx]\n",
    "    evecs_B = evecs_B[:,idx]\n",
    "    evecs = Q.dot(evecs_B[:,:k])\n",
    "    evals = evals[:k]\n",
    "    return evals, evecs"
   ]
  },
  {
   "cell_type": "code",
   "execution_count": null,
   "metadata": {},
   "outputs": [],
   "source": []
  }
 ],
 "metadata": {
  "kernelspec": {
   "display_name": "myenv",
   "language": "python",
   "name": "python3"
  },
  "language_info": {
   "codemirror_mode": {
    "name": "ipython",
    "version": 3
   },
   "file_extension": ".py",
   "mimetype": "text/x-python",
   "name": "python",
   "nbconvert_exporter": "python",
   "pygments_lexer": "ipython3",
   "version": "3.13.2"
  }
 },
 "nbformat": 4,
 "nbformat_minor": 2
}
